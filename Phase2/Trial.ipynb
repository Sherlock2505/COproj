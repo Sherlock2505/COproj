{
 "cells": [
  {
   "cell_type": "code",
   "execution_count": 106,
   "metadata": {},
   "outputs": [],
   "source": [
    "instruction = ['lui $s0,0x1001','lw $s1,0x10010004']\n",
    "op_code = {'add':0}\n",
    "r_type = ['sll','srl','jr','jalr','syscall','add','sub','and','or']\n",
    "i_type = ['beq','bne','addi','ori','andi','lui','lw','sw']\n",
    "j_type = ['j','jal']\n",
    "reg = {\"zero\":0, \"r0\":0, \"at\":0, \"v0\":0, \"v1\":0, \"a0\":0, \"a1\":0, \"a2\":0, \"a3\":0, \"t0\":0, \"t1\":0, \"t2\":0, \"t3\":0, \"t4\":0, \"t5\":0, \"t6\":0, \"t7\":0,\"s0\":0, \"s1\":0, \"s2\":0, \"s3\":0 ,\"s4\":0 ,\"s5\":0, \"s6\":0, \"s7\":0, \"t8\":0, \"t9\":0, \"k0\":0, \"k1\":0, \"gp\":0, \"sp\":0, \"s8\":0, \"ra\":0}\n",
    "data = {'.word':[10,1],'.text':[]}\n",
    "base_address = 0x10010000"
   ]
  },
  {
   "cell_type": "code",
   "execution_count": 25,
   "metadata": {},
   "outputs": [],
   "source": [
    "def parse(text):\n",
    "    result = text.split()\n",
    "    parsed = []\n",
    "\n",
    "    for st in result:\n",
    "\n",
    "        st = st.split(\",\")\n",
    "        for x in st:\n",
    "            if(x):\n",
    "                parsed.append(x)\n",
    "\n",
    "    return parsed"
   ]
  },
  {
   "cell_type": "code",
   "execution_count": 26,
   "metadata": {},
   "outputs": [],
   "source": [
    "def fetch(instruction,i):\n",
    "    parsed_ins = parse(instruction[i])\n",
    "    return parsed_ins"
   ]
  },
  {
   "cell_type": "code",
   "execution_count": 27,
   "metadata": {},
   "outputs": [
    {
     "data": {
      "text/plain": [
       "['add', '$s1', '$s2', '$s3']"
      ]
     },
     "execution_count": 27,
     "metadata": {},
     "output_type": "execute_result"
    }
   ],
   "source": [
    "fetch(instruction,0)"
   ]
  },
  {
   "cell_type": "code",
   "execution_count": 22,
   "metadata": {},
   "outputs": [],
   "source": [
    "import re"
   ]
  },
  {
   "cell_type": "code",
   "execution_count": 73,
   "metadata": {},
   "outputs": [
    {
     "data": {
      "text/plain": [
       "['lui', '$s0', '0x1001']"
      ]
     },
     "execution_count": 73,
     "metadata": {},
     "output_type": "execute_result"
    }
   ],
   "source": [
    "fetch(instruction,1)"
   ]
  },
  {
   "cell_type": "code",
   "execution_count": 42,
   "metadata": {},
   "outputs": [
    {
     "data": {
      "text/plain": [
       "['lw', '$s2', '0($s0)']"
      ]
     },
     "execution_count": 42,
     "metadata": {},
     "output_type": "execute_result"
    }
   ],
   "source": [
    "fetch(instruction,2)"
   ]
  },
  {
   "cell_type": "code",
   "execution_count": 111,
   "metadata": {},
   "outputs": [],
   "source": [
    "def decode(parsed_ins):\n",
    "    \n",
    "    if(parsed_ins[0]=='add' or parsed_ins[0]=='sub' or parsed_ins[0]=='and' or parsed_ins[0]=='or' or parsed_ins[0]=='slt'):\n",
    "        return {'ins':parsed_ins[0],'rd':parsed_ins[1].replace('$',''),'rs':reg[parsed_ins[2].replace('$','')],'rt':reg[parsed_ins[3].replace('$','')]}\n",
    "    elif(parsed_ins[0]=='sll' or parsed_ins[0]=='srl' or parsed_ins[0]=='andi' or parsed_ins[0]=='ori' or parsed_ins[0]=='addi'):\n",
    "        return {'ins':parsed_ins[0],'rd':parsed_ins[1],'rs':parsed_ins[2],'amt':parsed_ins[3]}\n",
    "    elif(parsed_ins[0]=='bne' or parsed_ins[0]=='beq'):\n",
    "        return {'ins':parsed_ins[0],'rs':parsed_ins[1],'rt':parsed_ins[2],'addr':parsed_ins[3]}\n",
    "    elif(parsed_ins[0]=='j' or parsed_ins[0]=='jal'):\n",
    "        return {'ins':parsed_ins[0],'addr':parsed_ins[1]}\n",
    "    elif(parsed_ins[0]=='lw' or parsed_ins[0]=='sw'):\n",
    "        reg_pattern = re.search(r\"\\$[a-z0-9]*\",parsed_ins[2],re.MULTILINE)\n",
    "        offset_pattern = re.search(r\"\\w+\",parsed_ins[2],re.MULTILINE)\n",
    "        return {'ins':parsed_ins[0],'rt':parsed_ins[1].replace('$',''),'rm':reg_pattern.group(0).replace('$',''),'offset':int(offset_pattern.group(0))}\n",
    "    elif(parsed_ins[0]=='lui'):\n",
    "        return {'ins':parsed_ins[0],'rt':parsed_ins[1].replace('$',''),'addr':hex(int(parsed_ins[2]+'0000',16))}"
   ]
  },
  {
   "cell_type": "code",
   "execution_count": 112,
   "metadata": {},
   "outputs": [
    {
     "data": {
      "text/plain": [
       "{'ins': 'lui', 'rt': 's0', 'addr': '0x10010000'}"
      ]
     },
     "execution_count": 112,
     "metadata": {},
     "output_type": "execute_result"
    }
   ],
   "source": [
    "decode(fetch(instruction,1))"
   ]
  },
  {
   "cell_type": "code",
   "execution_count": 113,
   "metadata": {},
   "outputs": [
    {
     "data": {
      "text/plain": [
       "{'ins': 'add', 'rd': 's1', 'rs': 10, 'rt': 0}"
      ]
     },
     "execution_count": 113,
     "metadata": {},
     "output_type": "execute_result"
    }
   ],
   "source": [
    "decode(fetch(instruction,0))"
   ]
  },
  {
   "cell_type": "code",
   "execution_count": 114,
   "metadata": {},
   "outputs": [
    {
     "data": {
      "text/plain": [
       "{'ins': 'lw', 'rt': 's2', 'rm': 's0', 'offset': 0}"
      ]
     },
     "execution_count": 114,
     "metadata": {},
     "output_type": "execute_result"
    }
   ],
   "source": [
    "decode(fetch(instruction,2))"
   ]
  },
  {
   "cell_type": "code",
   "execution_count": 70,
   "metadata": {},
   "outputs": [],
   "source": [
    "def execute(decoded_ins):\n",
    "    \n",
    "    if(decoded_ins['ins']=='add'):\n",
    "        return (decoded_ins['rt']+decoded_ins['rs'],decoded_ins['rd'])\n",
    "    elif(decoded_ins['ins']=='sub'):\n",
    "        return (decoded_ins['rt']-decoded_ins['rs'],decoded_ins['rd'])\n",
    "    elif(decoded_ins['ins']=='and'):\n",
    "        return (decoded_ins['rt'] and decoded_ins['rs'],decoded_ins['rd'])\n",
    "    elif(decoded_ins['ins']=='or'):\n",
    "        return (decoded_ins['rt'] or decoded_ins['rs'],decoded_ins['rd'])\n",
    "    elif(decoded_ins['ins']=='slt'):\n",
    "        if(decoded_ins['rt']<decoded_ins['rs']):\n",
    "            return (1,decoded_ins['rd'])\n",
    "        else:\n",
    "            return (0,decoded_ins['rd'])\n",
    "    elif(decoded_ins['ins']=='lui'):\n",
    "        return (decoded_ins['addr'],decoded_ins['rt'])"
   ]
  },
  {
   "cell_type": "code",
   "execution_count": 115,
   "metadata": {},
   "outputs": [
    {
     "data": {
      "text/plain": [
       "('0x10010000', 's0')"
      ]
     },
     "execution_count": 115,
     "metadata": {},
     "output_type": "execute_result"
    }
   ],
   "source": [
    "execute(decode(fetch(instruction,1)))"
   ]
  },
  {
   "cell_type": "code",
   "execution_count": 101,
   "metadata": {},
   "outputs": [],
   "source": [
    "def memory(decoded_ins):\n",
    "    \n",
    "    if('offset' in decoded_ins.keys()):\n",
    "        reg1 = decoded_ins['rt']\n",
    "        reg2 = decoded_ins['rm']\n",
    "        offset = decoded_ins['offset']\n",
    "        if(decoded_ins['ins']=='lw'):\n",
    "            if(int(reg[reg2],16)-base_address>=0 and (int(reg[reg2],16)-base_address)%4==0 and offset%4==0):\n",
    "                    index = int((int(reg[reg2],16)-base_address)/4 + offset/4)\n",
    "                    reg[reg1] = data['.word'][index]\n",
    "        elif(decoded_ins['ins']=='sw'):\n",
    "            if(int(reg[reg2],16)>=base_address and (int(reg[reg2],16)-base_address)%4==0 and offset%4==0):\n",
    "                    index = int((int(reg[reg2],16)-base_address)/4 + offset/4)\n",
    "                    if(index>=len(data['.word'])):\n",
    "                        count = index-len(data['.word'])\n",
    "                        for i in range(count):\n",
    "                            data['.word'].append(0)\n",
    "                        data['.word'].append(reg[reg1])\n",
    "                    else:\n",
    "                        data['.word'][index] = self.reg[reg1]\n",
    "    else:\n",
    "        pass\n",
    "    "
   ]
  },
  {
   "cell_type": "code",
   "execution_count": 102,
   "metadata": {},
   "outputs": [],
   "source": [
    "def writeback(result):\n",
    "        regstr = result[1]\n",
    "        value = result[0]\n",
    "        reg[regstr] = value         "
   ]
  },
  {
   "cell_type": "code",
   "execution_count": 107,
   "metadata": {},
   "outputs": [],
   "source": [
    "writeback(execute(decode(fetch(instruction,1))))"
   ]
  },
  {
   "cell_type": "code",
   "execution_count": 108,
   "metadata": {},
   "outputs": [],
   "source": [
    "memory(decode(fetch(instruction,2)))"
   ]
  },
  {
   "cell_type": "code",
   "execution_count": 109,
   "metadata": {},
   "outputs": [
    {
     "data": {
      "text/plain": [
       "{'zero': 0,\n",
       " 'r0': 0,\n",
       " 'at': 0,\n",
       " 'v0': 0,\n",
       " 'v1': 0,\n",
       " 'a0': 0,\n",
       " 'a1': 0,\n",
       " 'a2': 0,\n",
       " 'a3': 0,\n",
       " 't0': 0,\n",
       " 't1': 0,\n",
       " 't2': 0,\n",
       " 't3': 0,\n",
       " 't4': 0,\n",
       " 't5': 0,\n",
       " 't6': 0,\n",
       " 't7': 0,\n",
       " 's0': '0x10010000',\n",
       " 's1': 0,\n",
       " 's2': 10,\n",
       " 's3': 0,\n",
       " 's4': 0,\n",
       " 's5': 0,\n",
       " 's6': 0,\n",
       " 's7': 0,\n",
       " 't8': 0,\n",
       " 't9': 0,\n",
       " 'k0': 0,\n",
       " 'k1': 0,\n",
       " 'gp': 0,\n",
       " 'sp': 0,\n",
       " 's8': 0,\n",
       " 'ra': 0}"
      ]
     },
     "execution_count": 109,
     "metadata": {},
     "output_type": "execute_result"
    }
   ],
   "source": [
    "reg"
   ]
  },
  {
   "cell_type": "code",
   "execution_count": 1,
   "metadata": {},
   "outputs": [],
   "source": [
    "from multiprocessing import *"
   ]
  },
  {
   "cell_type": "code",
   "execution_count": null,
   "metadata": {},
   "outputs": [],
   "source": []
  }
 ],
 "metadata": {
  "kernelspec": {
   "display_name": "Python 3",
   "language": "python",
   "name": "python3"
  },
  "language_info": {
   "codemirror_mode": {
    "name": "ipython",
    "version": 3
   },
   "file_extension": ".py",
   "mimetype": "text/x-python",
   "name": "python",
   "nbconvert_exporter": "python",
   "pygments_lexer": "ipython3",
   "version": "3.7.3"
  }
 },
 "nbformat": 4,
 "nbformat_minor": 4
}
